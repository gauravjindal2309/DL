{
 "cells": [
  {
   "cell_type": "code",
   "execution_count": 2,
   "metadata": {
    "collapsed": true,
    "deletable": true,
    "editable": true
   },
   "outputs": [],
   "source": [
    "\n",
    "\n",
    "%matplotlib inline\n",
    "import matplotlib\n",
    "import numpy as np\n",
    "import matplotlib.pyplot as plt\n",
    "import sklearn.datasets\n",
    "import tensorflow as tf\n",
    "from tensorflow.python.framework.ops import reset_default_graph"
   ]
  },
  {
   "cell_type": "code",
   "execution_count": 2,
   "metadata": {
    "collapsed": true,
    "deletable": true,
    "editable": true
   },
   "outputs": [],
   "source": [
    "\n",
    "# Do not worry about the code below for now, it is used for plotting later\n",
    "def plot_decision_boundary(pred_func, X, y):\n",
    "    #from https://github.com/dennybritz/nn-from-scratch/blob/master/nn-from-scratch.ipynb\n",
    "    # Set min and max values and give it some padding\n",
    "    x_min, x_max = X[:, 0].min() - .5, X[:, 0].max() + .5\n",
    "    y_min, y_max = X[:, 1].min() - .5, X[:, 1].max() + .5\n",
    "    \n",
    "    h = 0.01\n",
    "    # Generate a grid of points with distance h between them\n",
    "    xx, yy = np.meshgrid(np.arange(x_min, x_max, h), np.arange(y_min, y_max, h))\n",
    "    \n",
    "    yy = yy.astype('float32')\n",
    "    xx = xx.astype('float32')\n",
    "    # Predict the function value for the whole gid\n",
    "    Z = pred_func(np.c_[xx.ravel(), yy.ravel()])[:,0]\n",
    "    Z = Z.reshape(xx.shape)\n",
    "    # Plot the contour and training examples\n",
    "    plt.figure()\n",
    "    plt.contourf(xx, yy, Z, cmap=plt.cm.RdBu)\n",
    "    plt.scatter(X[:, 0], X[:, 1], c=-y, cmap=plt.cm.Spectral)"
   ]
  },
  {
   "cell_type": "code",
   "execution_count": 6,
   "metadata": {
    "collapsed": true,
    "deletable": true,
    "editable": true
   },
   "outputs": [],
   "source": [
    "def onehot(t, num_classes):\n",
    "    out = np.zeros((t.shape[0], num_classes))\n",
    "    for row, col in enumerate(t):\n",
    "        out[row, col] = 1\n",
    "    return out\n"
   ]
  },
  {
   "cell_type": "code",
   "execution_count": null,
   "metadata": {
    "collapsed": true,
    "deletable": true,
    "editable": true
   },
   "outputs": [],
   "source": [
    "\n",
    "\n",
    "# Generate a dataset and plot it\n",
    "np.random.seed(0)\n",
    "num_samples = 300\n",
    "\n",
    "X, y = sklearn.datasets.make_moons(num_samples, noise=0.20)\n",
    "\n",
    "X_tr = X[:100].astype('float32')\n",
    "X_val = X[100:200].astype('float32')\n",
    "X_te = X[200:].astype('float32')\n",
    "\n",
    "y_tr = y[:100].astype('int32')\n",
    "y_val = y[100:200].astype('int32')\n",
    "y_te = y[200:].astype('int32')\n",
    "\n",
    "plt.scatter(X_tr[:,0], X_tr[:,1], s=40, c=y_tr, cmap=plt.cm.BuGn)\n",
    "\n",
    "print X.shape, y.shape\n",
    "\n",
    "num_features = X_tr.shape[-1]\n",
    "num_output = 2\n",
    "\n"
   ]
  },
  {
   "cell_type": "code",
   "execution_count": 10,
   "metadata": {
    "collapsed": false,
    "deletable": true,
    "editable": true
   },
   "outputs": [
    {
     "data": {
      "text/plain": [
       "(300,)"
      ]
     },
     "execution_count": 10,
     "metadata": {},
     "output_type": "execute_result"
    }
   ],
   "source": [
    "# Generate a dataset and plot it\n",
    "np.random.seed(0)\n",
    "num_samples = 300\n",
    "\n",
    "X, y = sklearn.datasets.make_moons(num_samples, noise=0.20)\n",
    "y.shape"
   ]
  },
  {
   "cell_type": "code",
   "execution_count": 15,
   "metadata": {
    "collapsed": false,
    "deletable": true,
    "editable": true,
    "scrolled": true
   },
   "outputs": [
    {
     "data": {
      "text/plain": [
       "array([[ 0.07466918, -0.30576367],\n",
       "       [ 0.86855581,  0.63622971],\n",
       "       [ 1.11615532, -0.47976808],\n",
       "       [ 1.05589797, -0.28475626]])"
      ]
     },
     "execution_count": 15,
     "metadata": {},
     "output_type": "execute_result"
    }
   ],
   "source": [
    "X[1:5]"
   ]
  },
  {
   "cell_type": "code",
   "execution_count": 11,
   "metadata": {
    "collapsed": true,
    "deletable": true,
    "editable": true
   },
   "outputs": [],
   "source": [
    "\n",
    "X_tr = X[:100].astype('float32')\n",
    "X_val = X[100:200].astype('float32')\n",
    "X_te = X[200:].astype('float32')\n",
    "\n",
    "y_tr = y[:100].astype('int32')\n",
    "y_val = y[100:200].astype('int32')\n",
    "y_te = y[200:].astype('int32')"
   ]
  },
  {
   "cell_type": "code",
   "execution_count": 12,
   "metadata": {
    "collapsed": false,
    "deletable": true,
    "editable": true
   },
   "outputs": [
    {
     "data": {
      "text/plain": [
       "<matplotlib.collections.PathCollection at 0x7f9b72369f10>"
      ]
     },
     "execution_count": 12,
     "metadata": {},
     "output_type": "execute_result"
    },
    {
     "data": {
      "image/png": "[encoded data removed]",
      "text/plain": [
       "<matplotlib.figure.Figure at 0x7f9b723c0410>"
      ]
     },
     "metadata": {},
     "output_type": "display_data"
    }
   ],
   "source": [
    "plt.scatter(X_tr[:,0], X_tr[:,1], s=40, c=y_tr, cmap=plt.cm.BuGn)"
   ]
  },
  {
   "cell_type": "code",
   "execution_count": 18,
   "metadata": {
    "collapsed": false,
    "deletable": true,
    "editable": true
   },
   "outputs": [
    {
     "name": "stdout",
     "output_type": "stream",
     "text": [
      "(300, 2) (300,)\n"
     ]
    }
   ],
   "source": [
    "print X.shape, y.shape\n",
    "\n",
    "num_features = X_tr.shape[-1]\n",
    "num_output = 2"
   ]
  },
  {
   "cell_type": "code",
   "execution_count": 20,
   "metadata": {
    "collapsed": false,
    "deletable": true,
    "editable": true
   },
   "outputs": [
    {
     "data": {
      "text/plain": [
       "(100, 2)"
      ]
     },
     "execution_count": 20,
     "metadata": {},
     "output_type": "execute_result"
    }
   ],
   "source": [
    "X_tr.shape"
   ]
  },
  {
   "cell_type": "code",
   "execution_count": 22,
   "metadata": {
    "collapsed": false,
    "deletable": true,
    "editable": true
   },
   "outputs": [],
   "source": [
    "# resets the graph, needed when initializing weights multiple times, like in this notebook\n",
    "reset_default_graph()\n",
    "\n",
    "# Setting up placeholder, this is where your data enters the graph!\n",
    "x_pl = tf.placeholder(tf.float32, [None, num_features])"
   ]
  },
  {
   "cell_type": "code",
   "execution_count": 27,
   "metadata": {
    "collapsed": false,
    "deletable": true,
    "editable": true
   },
   "outputs": [
    {
     "data": {
      "text/plain": [
       "<tensorflow.python.ops.init_ops.TruncatedNormal at 0x7f9b701d3750>"
      ]
     },
     "execution_count": 27,
     "metadata": {},
     "output_type": "execute_result"
    }
   ],
   "source": [
    "# Setting up variables, these variables are weights in your network that can be update while running our graph.\n",
    "# Notice, to make a hidden layer, the weights needs to have the following dimensionality\n",
    "# W[number_of_units_going_in, number_of_units_going_out]\n",
    "# b[number_of_units_going_out]\n",
    "# in the example below we have 2 input units (num_features) and 2 output units (num_output)\n",
    "# so our weights become W[2, 2], b[2]\n",
    "# if we want to make a hidden layer with 100 units, we need to define the shape of the\n",
    "# first weight to W[2, 100], b[2] and the shape of the second weight to W[100, 2], b[2]\n",
    "\n",
    "# defining our initializer for our weigths from a normal distribution (mean=0, std=0.1)\n",
    "weight_initializer = tf.truncated_normal_initializer(stddev=0.1)\n",
    "weight_initializer"
   ]
  },
  {
   "cell_type": "code",
   "execution_count": 28,
   "metadata": {
    "collapsed": true,
    "deletable": true,
    "editable": true
   },
   "outputs": [],
   "source": [
    "with tf.variable_scope('l_1'): # if you run it more than once, reuse has to be True\n",
    "    W_1 = tf.get_variable('W', [num_features, num_output], # change num_output to 100 for mlp\n",
    "                          initializer=weight_initializer)\n",
    "    b_1 = tf.get_variable('b', [num_output], # change num_output to 100 for mlp\n",
    "                          initializer=tf.constant_initializer(0.0))"
   ]
  },
  {
   "cell_type": "code",
   "execution_count": 29,
   "metadata": {
    "collapsed": true,
    "deletable": true,
    "editable": true
   },
   "outputs": [],
   "source": [
    "# with tf. variable_scope('l_2'):\n",
    "#     W_2 = tf.get_variable('W', [100, num_output],\n",
    "#                           initializer=weight_initializer)\n",
    "#     b_2 = tf.get_variable('b', [num_output],\n",
    "#                           initializer=tf.constant_initializer(0.0))\n",
    "\n",
    "# Setting up ops, these ops will define edges along our computational graph\n",
    "# The below ops will compute a logistic regression, but can be modified to compute\n",
    "# a neural network\n",
    "\n",
    "l_1 = tf.matmul(x_pl, W_1) + b_1\n",
    "# to make a hidden layer we need a nonlinearity\n",
    "# l_1_nonlinear = tf.nn.relu(l_1)\n",
    "# the layer before the softmax should not have a nonlinearity\n",
    "# l_2 = tf.matmul(l_1_nonlinear, W_2) + b_2\n",
    "y = tf.nn.softmax(l_1) # change to l_2 for MLP"
   ]
  },
  {
   "cell_type": "code",
   "execution_count": 32,
   "metadata": {
    "collapsed": false,
    "deletable": true,
    "editable": true,
    "scrolled": true
   },
   "outputs": [
    {
     "name": "stdout",
     "output_type": "stream",
     "text": [
      "---placeholders---\n",
      "Placeholder:0\n",
      "Tensor(\"Placeholder:0\", shape=(?, 2), dtype=float32)\n",
      "\n",
      "---weights---\n",
      "l_1/W:0\n",
      "(2, 2)\n",
      "Tensor(\"l_1/W/read:0\", shape=(2, 2), dtype=float32)\n",
      "\n",
      "l_1/b:0\n",
      "Tensor(\"l_1/b/read:0\", shape=(2,), dtype=float32)\n",
      "(2,)\n",
      "\n",
      "---ops---\n",
      "add:0\n",
      "Tensor(\"add:0\", shape=(?, 2), dtype=float32)\n",
      "\n",
      "Softmax:0\n",
      "Tensor(\"Softmax:0\", shape=(?, 2), dtype=float32)\n"
     ]
    }
   ],
   "source": [
    "# knowing how to print your tensors and ops is useful, here are some examples\n",
    "print(\"---placeholders---\")\n",
    "print(x_pl.name)\n",
    "print(x_pl)\n",
    "print\n",
    "print(\"---weights---\")\n",
    "print(W_1.name)\n",
    "print(W_1.get_shape())\n",
    "print(W_1)\n",
    "print\n",
    "print(b_1.name)\n",
    "print(b_1)\n",
    "print(b_1.get_shape())\n",
    "print\n",
    "print(\"---ops---\")\n",
    "print(l_1.name)\n",
    "print(l_1)\n",
    "print\n",
    "print(y.name)\n",
    "print(y)\n"
   ]
  },
  {
   "cell_type": "code",
   "execution_count": 33,
   "metadata": {
    "collapsed": true,
    "deletable": true,
    "editable": true
   },
   "outputs": [],
   "source": [
    "# y_ is a placeholder variable taking on the value of the target batch.\n",
    "y_ = tf.placeholder(tf.float32, [None, num_output])\n",
    "\n",
    "# computing cross entropy per sample\n",
    "cross_entropy = -tf.reduce_sum(y_ * tf.log(y), reduction_indices=[1])\n",
    "\n",
    "# averaging over samples\n",
    "cross_entropy = tf.reduce_mean(cross_entropy)"
   ]
  },
  {
   "cell_type": "code",
   "execution_count": 35,
   "metadata": {
    "collapsed": false,
    "deletable": true,
    "editable": true,
    "scrolled": true
   },
   "outputs": [
    {
     "name": "stdout",
     "output_type": "stream",
     "text": [
      "operations\n",
      "[u'Placeholder', u'l_1/W/Initializer/truncated_normal/shape', u'l_1/W/Initializer/truncated_normal/mean', u'l_1/W/Initializer/truncated_normal/stddev', u'l_1/W/Initializer/truncated_normal/TruncatedNormal', u'l_1/W/Initializer/truncated_normal/mul', u'l_1/W/Initializer/truncated_normal', u'l_1/W', u'l_1/W/Assign', u'l_1/W/read', u'l_1/b/Initializer/Const', u'l_1/b', u'l_1/b/Assign', u'l_1/b/read', u'MatMul', u'add', u'Softmax', u'Placeholder_1', u'Log', u'mul', u'Sum/reduction_indices', u'Sum', u'Neg', u'Const', u'Mean']\n",
      "\n",
      "variables\n",
      "WARNING:tensorflow:From <ipython-input-35-2cb619856caa>:8: all_variables (from tensorflow.python.ops.variables) is deprecated and will be removed after 2017-03-02.\n",
      "Instructions for updating:\n",
      "Please use tf.global_variables instead.\n",
      "[u'l_1/W:0', u'l_1/b:0']\n"
     ]
    }
   ],
   "source": [
    "# using the graph to print ops\n",
    "print(\"operations\")\n",
    "operations = [op.name for op in tf.get_default_graph().get_operations()]\n",
    "print(operations)\n",
    "print\n",
    "# variables are accessed through tensorflow\n",
    "print(\"variables\")\n",
    "variables = [var.name for var in tf.all_variables()]\n",
    "print(variables)"
   ]
  },
  {
   "cell_type": "code",
   "execution_count": 37,
   "metadata": {
    "collapsed": true,
    "deletable": true,
    "editable": true
   },
   "outputs": [],
   "source": [
    "# Defining our optimizer (try with different optimizers here!)\n",
    "optimizer = tf.train.GradientDescentOptimizer(learning_rate=0.1)\n",
    "\n",
    "# Computing our gradients\n",
    "grads_and_vars = optimizer.compute_gradients(cross_entropy)\n",
    "\n",
    "# Applying the gradients\n",
    "train_op = optimizer.apply_gradients(grads_and_vars)\n",
    "\n",
    "# Notice, alternatively you can use train_op = optimizer.minimize(crossentropy)\n",
    "# instead of the three steps above"
   ]
  },
  {
   "cell_type": "code",
   "execution_count": 40,
   "metadata": {
    "collapsed": false,
    "deletable": true,
    "editable": true
   },
   "outputs": [],
   "source": [
    "# making a one-hot encoded vector of correct (1) and incorrect (0) predictions\n",
    "correct_prediction = tf.equal(tf.argmax(y, 1), tf.argmax(y_, 1))\n",
    "\n",
    "# averaging the one-hot encoded vector\n",
    "accuracy = tf.reduce_mean(tf.cast(correct_prediction, tf.float32))"
   ]
  },
  {
   "cell_type": "code",
   "execution_count": 42,
   "metadata": {
    "collapsed": true,
    "deletable": true,
    "editable": true
   },
   "outputs": [],
   "source": [
    "# defining a function to make predictions using our classifier\n",
    "def pred(X_in, sess):\n",
    "    # first we must define what data to give it\n",
    "    feed_dict = {x_pl: X_in}\n",
    "    # secondly our fetches\n",
    "    fetches = [y]\n",
    "    # utilizing the given session (ref. sess) to compute results\n",
    "    res = sess.run(fetches, feed_dict)\n",
    "    # res is a list with each indices representing the corresponding element in fetches\n",
    "    return res[0]"
   ]
  },
  {
   "cell_type": "code",
   "execution_count": 43,
   "metadata": {
    "collapsed": true,
    "deletable": true,
    "editable": true
   },
   "outputs": [],
   "source": [
    "num_epochs = 1000\n",
    "\n",
    "train_cost, val_cost, val_acc = [],[],[]\n",
    "# restricting memory usage, TensorFlow is greedy and will use all memory otherwise\n",
    "gpu_opts = tf.GPUOptions(per_process_gpu_memory_fraction=0.2)\n"
   ]
  },
  {
   "cell_type": "code",
   "execution_count": 44,
   "metadata": {
    "collapsed": false,
    "deletable": true,
    "editable": true,
    "scrolled": false
   },
   "outputs": [
    {
     "name": "stdout",
     "output_type": "stream",
     "text": [
      "WARNING:tensorflow:From <ipython-input-44-febdcf0d173c>:21: initialize_all_variables (from tensorflow.python.ops.variables) is deprecated and will be removed after 2017-03-02.\n",
      "Instructions for updating:\n",
      "Use `tf.global_variables_initializer` instead.\n",
      "Epoch 0, Train Cost: 0.714\tVal Cost: 0.687\t Val acc: 0.560\n",
      "Epoch 100, Train Cost: 0.355\tVal Cost: 0.373\t Val acc: 0.810\n",
      "Epoch 200, Train Cost: 0.326\tVal Cost: 0.347\t Val acc: 0.830\n",
      "Epoch 300, Train Cost: 0.315\tVal Cost: 0.338\t Val acc: 0.830\n",
      "Epoch 400, Train Cost: 0.310\tVal Cost: 0.335\t Val acc: 0.830\n",
      "Epoch 500, Train Cost: 0.307\tVal Cost: 0.333\t Val acc: 0.820\n",
      "Epoch 600, Train Cost: 0.305\tVal Cost: 0.332\t Val acc: 0.810\n",
      "Epoch 700, Train Cost: 0.304\tVal Cost: 0.332\t Val acc: 0.800\n",
      "Epoch 800, Train Cost: 0.303\tVal Cost: 0.332\t Val acc: 0.800\n",
      "Epoch 900, Train Cost: 0.303\tVal Cost: 0.332\t Val acc: 0.800\n",
      "\n",
      "Test Cost: 0.272\tTest Accuracy: 0.870\n"
     ]
    },
    {
     "data": {
      "text/plain": [
       "(<matplotlib.text.Text at 0x7f9b6c511f50>,\n",
       " <matplotlib.text.Text at 0x7f9b6c528e10>)"
      ]
     },
     "execution_count": 44,
     "metadata": {},
     "output_type": "execute_result"
    },
    {
     "data": {
      "image/png": "[encoded data removed]",
      "text/plain": [
       "<matplotlib.figure.Figure at 0x7f9b723eafd0>"
      ]
     },
     "metadata": {},
     "output_type": "display_data"
    },
    {
     "data": {
      "image/png": "[encoded data removed]",
      "text/plain": [
       "<matplotlib.figure.Figure at 0x7f9b70057690>"
      ]
     },
     "metadata": {},
     "output_type": "display_data"
    },
    {
     "data": {
      "image/png": "[encoded data removed]",
      "text/plain": [
       "<matplotlib.figure.Figure at 0x7f9b7014bcd0>"
      ]
     },
     "metadata": {},
     "output_type": "display_data"
    }
   ],
   "source": [
    "# defining a function to make predictions using our classifier\n",
    "def pred(X_in, sess):\n",
    "    # first we must define what data to give it\n",
    "    feed_dict = {x_pl: X_in}\n",
    "    # secondly our fetches\n",
    "    fetches = [y]\n",
    "    # utilizing the given session (ref. sess) to compute results\n",
    "    res = sess.run(fetches, feed_dict)\n",
    "    # res is a list with each indices representing the corresponding element in fetches\n",
    "    return res[0]\n",
    "\n",
    "# Training loop\n",
    "num_epochs = 1000\n",
    "\n",
    "train_cost, val_cost, val_acc = [],[],[]\n",
    "# restricting memory usage, TensorFlow is greedy and will use all memory otherwise\n",
    "gpu_opts = tf.GPUOptions(per_process_gpu_memory_fraction=0.2)\n",
    "with tf.Session(config=tf.ConfigProto(gpu_options=gpu_opts)) as sess:\n",
    "    \n",
    "    # initializing all variables\n",
    "    init = tf.initialize_all_variables()\n",
    "    sess.run(init)\n",
    "    plot_decision_boundary(lambda x: pred(x, sess), X_val, y_val)\n",
    "    plt.title(\"Untrained Classifier\")\n",
    "    for e in range(num_epochs):\n",
    "        ### TRAINING ###\n",
    "        # what to feed to our train_op\n",
    "        # notice we onehot encode our predictions to change shape from (batch,) -> (batch, num_output)\n",
    "        feed_dict_train = {x_pl: X_tr, y_: onehot(y_tr, num_output)}\n",
    "        \n",
    "        # deciding which parts to fetch, train_op makes the classifier \"train\"\n",
    "        fetches_train = [train_op, cross_entropy]\n",
    "        \n",
    "        # running the train_op\n",
    "        res = sess.run(fetches=fetches_train, feed_dict=feed_dict_train)\n",
    "        # storing cross entropy (second fetch argument, so index=1)\n",
    "        train_cost += [res[1]]\n",
    "    \n",
    "        ### VALIDATING ###\n",
    "        # what to feed our accuracy op\n",
    "        feed_dict_valid = {x_pl: X_val, y_: onehot(y_val, num_output)}\n",
    "\n",
    "        # deciding which parts to fetch\n",
    "        fetches_valid = [cross_entropy, accuracy]\n",
    "\n",
    "        # running the validation\n",
    "        res = sess.run(fetches=fetches_valid, feed_dict=feed_dict_valid)\n",
    "        val_cost += [res[0]]\n",
    "        val_acc += [res[1]]\n",
    "\n",
    "        if e % 100 == 0:\n",
    "            print \"Epoch %i, Train Cost: %0.3f\\tVal Cost: %0.3f\\t Val acc: %0.3f\"%(e, train_cost[-1],val_cost[-1],val_acc[-1])\n",
    "\n",
    "    ### TESTING ###\n",
    "    # what to feed our accuracy op\n",
    "    feed_dict_test = {x_pl: X_te, y_: onehot(y_te, num_output)}\n",
    "\n",
    "    # deciding which parts to fetch\n",
    "    fetches_test = [cross_entropy, accuracy]\n",
    "\n",
    "    # running the validation\n",
    "    res = sess.run(fetches=fetches_test, feed_dict=feed_dict_test)\n",
    "    test_cost = res[0]\n",
    "    test_acc = res[1]\n",
    "    print \"\\nTest Cost: %0.3f\\tTest Accuracy: %0.3f\"%(test_cost, test_acc)\n",
    "    \n",
    "    # For plotting purposes\n",
    "    plot_decision_boundary(lambda x: pred(x, sess), X_te, y_te)\n",
    "\n",
    "# notice: we do not need to use the session environment anymore, so returning from it.\n",
    "plt.title(\"Trained Classifier\")\n",
    "\n",
    "epoch = np.arange(len(train_cost))\n",
    "plt.figure()\n",
    "plt.plot(epoch,train_cost,'r',epoch,val_cost,'b')\n",
    "plt.legend(['Train Loss','Val Loss'])\n",
    "plt.xlabel('Updates'), plt.ylabel('Loss')"
   ]
  },
  {
   "cell_type": "code",
   "execution_count": 3,
   "metadata": {
    "collapsed": false,
    "deletable": true,
    "editable": true
   },
   "outputs": [
    {
     "name": "stdout",
     "output_type": "stream",
     "text": [
      "1.0\n"
     ]
    },
    {
     "data": {
      "image/png": "[encoded data removed]",
      "text/plain": [
       "<matplotlib.figure.Figure at 0x7f4f296e1210>"
      ]
     },
     "metadata": {},
     "output_type": "display_data"
    }
   ],
   "source": [
    "# PLOT OF DIFFERENT OUTPUT USNITS\n",
    "x = np.linspace(-6, 6, 100)\n",
    "relu = lambda x: np.maximum(0, x)\n",
    "leaky_relu = lambda x: np.maximum(0, x) + 0.1*np.minimum(0, x) # probably a slow implementation....\n",
    "elu = lambda x: (x > 0)*x + (1 - (x > 0))*(np.exp(x) - 1) \n",
    "sigmoid = lambda x: (1+np.exp(-x))**(-1)\n",
    "def softmax(w, t = 1.0):\n",
    "    e = np.exp(w)\n",
    "    dist = e / np.sum(e)\n",
    "    return dist\n",
    "x_softmax = softmax(x)\n",
    "\n",
    "plt.figure(figsize=(6,6))\n",
    "plt.plot(x, relu(x), label='ReLU', lw=2)\n",
    "plt.plot(x, leaky_relu(x), label='Leaky ReLU',lw=2)\n",
    "plt.plot(x, elu(x), label='Elu', lw=2)\n",
    "plt.plot(x, sigmoid(x), label='Sigmoid',lw=2)\n",
    "plt.legend(loc=2, fontsize=16)\n",
    "plt.title('Non-linearities', fontsize=20)\n",
    "plt.ylim([-2, 5])\n",
    "plt.xlim([-6, 6])\n",
    "\n",
    "# softmax\n",
    "# assert that all class probablities sum to one\n",
    "print np.sum(x_softmax)\n",
    "assert abs(1.0 - x_softmax.sum()) < 1e-8"
   ]
  },
  {
   "cell_type": "code",
   "execution_count": 8,
   "metadata": {
    "collapsed": false
   },
   "outputs": [
    {
     "ename": "IOError",
     "evalue": "[Errno 2] No such file or directory: 'mnist.npz'",
     "output_type": "error",
     "traceback": [
      "\u001b[0;31m---------------------------------------------------------------------------\u001b[0m",
      "\u001b[0;31mIOError\u001b[0m                                   Traceback (most recent call last)",
      "\u001b[0;32m<ipython-input-8-c638e3fc8566>\u001b[0m in \u001b[0;36m<module>\u001b[0;34m()\u001b[0m\n\u001b[1;32m      1\u001b[0m \u001b[0;31m#To speed up training we'll only work on a subset of the data\u001b[0m\u001b[0;34m\u001b[0m\u001b[0;34m\u001b[0m\u001b[0m\n\u001b[0;32m----> 2\u001b[0;31m \u001b[0mdata\u001b[0m \u001b[0;34m=\u001b[0m \u001b[0mnp\u001b[0m\u001b[0;34m.\u001b[0m\u001b[0mload\u001b[0m\u001b[0;34m(\u001b[0m\u001b[0;34m'mnist.npz'\u001b[0m\u001b[0;34m)\u001b[0m\u001b[0;34m\u001b[0m\u001b[0m\n\u001b[0m\u001b[1;32m      3\u001b[0m \u001b[0mnum_classes\u001b[0m \u001b[0;34m=\u001b[0m \u001b[0;36m10\u001b[0m\u001b[0;34m\u001b[0m\u001b[0m\n\u001b[1;32m      4\u001b[0m \u001b[0mx_train\u001b[0m \u001b[0;34m=\u001b[0m \u001b[0mdata\u001b[0m\u001b[0;34m[\u001b[0m\u001b[0;34m'X_train'\u001b[0m\u001b[0;34m]\u001b[0m\u001b[0;34m[\u001b[0m\u001b[0;34m:\u001b[0m\u001b[0;36m1000\u001b[0m\u001b[0;34m]\u001b[0m\u001b[0;34m.\u001b[0m\u001b[0mastype\u001b[0m\u001b[0;34m(\u001b[0m\u001b[0;34m'float32'\u001b[0m\u001b[0;34m)\u001b[0m\u001b[0;34m\u001b[0m\u001b[0m\n\u001b[1;32m      5\u001b[0m \u001b[0mtargets_train\u001b[0m \u001b[0;34m=\u001b[0m \u001b[0mdata\u001b[0m\u001b[0;34m[\u001b[0m\u001b[0;34m'y_train'\u001b[0m\u001b[0;34m]\u001b[0m\u001b[0;34m[\u001b[0m\u001b[0;34m:\u001b[0m\u001b[0;36m1000\u001b[0m\u001b[0;34m]\u001b[0m\u001b[0;34m.\u001b[0m\u001b[0mastype\u001b[0m\u001b[0;34m(\u001b[0m\u001b[0;34m'int32'\u001b[0m\u001b[0;34m)\u001b[0m\u001b[0;34m\u001b[0m\u001b[0m\n",
      "\u001b[0;32m/usr/local/lib/python2.7/dist-packages/numpy/lib/npyio.pyc\u001b[0m in \u001b[0;36mload\u001b[0;34m(file, mmap_mode, allow_pickle, fix_imports, encoding)\u001b[0m\n\u001b[1;32m    368\u001b[0m     \u001b[0mown_fid\u001b[0m \u001b[0;34m=\u001b[0m \u001b[0mFalse\u001b[0m\u001b[0;34m\u001b[0m\u001b[0m\n\u001b[1;32m    369\u001b[0m     \u001b[0;32mif\u001b[0m \u001b[0misinstance\u001b[0m\u001b[0;34m(\u001b[0m\u001b[0mfile\u001b[0m\u001b[0;34m,\u001b[0m \u001b[0mbasestring\u001b[0m\u001b[0;34m)\u001b[0m\u001b[0;34m:\u001b[0m\u001b[0;34m\u001b[0m\u001b[0m\n\u001b[0;32m--> 370\u001b[0;31m         \u001b[0mfid\u001b[0m \u001b[0;34m=\u001b[0m \u001b[0mopen\u001b[0m\u001b[0;34m(\u001b[0m\u001b[0mfile\u001b[0m\u001b[0;34m,\u001b[0m \u001b[0;34m\"rb\"\u001b[0m\u001b[0;34m)\u001b[0m\u001b[0;34m\u001b[0m\u001b[0m\n\u001b[0m\u001b[1;32m    371\u001b[0m         \u001b[0mown_fid\u001b[0m \u001b[0;34m=\u001b[0m \u001b[0mTrue\u001b[0m\u001b[0;34m\u001b[0m\u001b[0m\n\u001b[1;32m    372\u001b[0m     \u001b[0;32melif\u001b[0m \u001b[0mis_pathlib_path\u001b[0m\u001b[0;34m(\u001b[0m\u001b[0mfile\u001b[0m\u001b[0;34m)\u001b[0m\u001b[0;34m:\u001b[0m\u001b[0;34m\u001b[0m\u001b[0m\n",
      "\u001b[0;31mIOError\u001b[0m: [Errno 2] No such file or directory: 'mnist.npz'"
     ]
    }
   ],
   "source": [
    "#To speed up training we'll only work on a subset of the data\n",
    "from tensorflow.examples.tutorials.mnist import input_data\n",
    "data = np.load('mnist.npz')\n",
    "num_classes = 10\n",
    "x_train = data['X_train'][:1000].astype('float32')\n",
    "targets_train = data['y_train'][:1000].astype('int32')\n",
    "\n",
    "x_valid = data['X_valid'][:500].astype('float32')\n",
    "targets_valid = data['y_valid'][:500].astype('int32')\n",
    "\n",
    "x_test = data['X_test'][:500].astype('float32')\n",
    "targets_test = data['y_test'][:500].astype('int32')\n",
    "\n",
    "print \"Information on dataset\"\n",
    "print \"x_train\", x_train.shape\n",
    "print \"targets_train\", targets_train.shape\n",
    "print \"x_valid\", x_valid.shape\n",
    "print \"targets_valid\", targets_valid.shape\n",
    "print \"x_test\", x_test.shape\n",
    "print \"targets_test\", targets_test.shape"
   ]
  },
  {
   "cell_type": "code",
   "execution_count": 10,
   "metadata": {
    "collapsed": false
   },
   "outputs": [
    {
     "name": "stdout",
     "output_type": "stream",
     "text": [
      "Extracting MNIST_data/train-images-idx3-ubyte.gz\n",
      "Extracting MNIST_data/train-labels-idx1-ubyte.gz\n",
      "Extracting MNIST_data/t10k-images-idx3-ubyte.gz\n",
      "Extracting MNIST_data/t10k-labels-idx1-ubyte.gz\n"
     ]
    }
   ],
   "source": [
    "#To speed up training we'll only work on a subset of the data\n",
    "from tensorflow.examples.tutorials.mnist import input_data\n",
    "\n",
    "data = input_data.read_data_sets(\"MNIST_data/\", one_hot=True)"
   ]
  },
  {
   "cell_type": "code",
   "execution_count": 20,
   "metadata": {
    "collapsed": false
   },
   "outputs": [
    {
     "name": "stdout",
     "output_type": "stream",
     "text": [
      "Object `` not found.\n"
     ]
    }
   ],
   "source": []
  },
  {
   "cell_type": "code",
   "execution_count": null,
   "metadata": {
    "collapsed": true
   },
   "outputs": [],
   "source": []
  }
 ],
 "metadata": {
  "kernelspec": {
   "display_name": "Python 2",
   "language": "python",
   "name": "python2"
  },
  "language_info": {
   "codemirror_mode": {
    "name": "ipython",
    "version": 2
   },
   "file_extension": ".py",
   "mimetype": "text/x-python",
   "name": "python",
   "nbconvert_exporter": "python",
   "pygments_lexer": "ipython2",
   "version": "2.7.12"
  }
 },
 "nbformat": 4,
 "nbformat_minor": 2
}
